{
  "nbformat": 4,
  "nbformat_minor": 0,
  "metadata": {
    "colab": {
      "provenance": [],
      "authorship_tag": "ABX9TyPrT/tL1gqLhY3FwrKGhW5e",
      "include_colab_link": true
    },
    "kernelspec": {
      "name": "python3",
      "display_name": "Python 3"
    },
    "language_info": {
      "name": "python"
    }
  },
  "cells": [
    {
      "cell_type": "markdown",
      "metadata": {
        "id": "view-in-github",
        "colab_type": "text"
      },
      "source": [
        "<a href=\"https://colab.research.google.com/github/cristianmunoz1/Intro_ML_project/blob/main/09_PCA.ipynb\" target=\"_parent\"><img src=\"https://colab.research.google.com/assets/colab-badge.svg\" alt=\"Open In Colab\"/></a>"
      ]
    },
    {
      "cell_type": "markdown",
      "source": [
        "## Implementación de PCA"
      ],
      "metadata": {
        "id": "eBHTKoKk_cfm"
      }
    },
    {
      "cell_type": "markdown",
      "source": [
        "Importe de librerías necesarias"
      ],
      "metadata": {
        "id": "icFqa2x-_iI9"
      }
    },
    {
      "cell_type": "code",
      "source": [
        "import numpy as np\n",
        "import pandas as pd\n",
        "from sklearn.preprocessing import StandardScaler\n",
        "from sklearn.model_selection import train_test_split, KFold\n",
        "from sklearn.decomposition import PCA\n",
        "from sklearn.metrics import mean_absolute_error\n",
        "from sklearn.svm import SVR\n",
        "from sklearn.linear_model import LinearRegression\n",
        "import time"
      ],
      "metadata": {
        "id": "VHWa4O76_cGF"
      },
      "execution_count": null,
      "outputs": []
    },
    {
      "cell_type": "markdown",
      "source": [
        "Cargamos los datos al notebook"
      ],
      "metadata": {
        "id": "_A_rllHAA95F"
      }
    },
    {
      "cell_type": "code",
      "source": [
        "data = pd.read_csv('data.csv')\n",
        "X = data.drop(['TimeInShelterDays'], axis=1).to_numpy()\n",
        "y = data['TimeInShelterDays'].values.reshape(-1, 1)\n",
        "scaler_y = StandardScaler()\n",
        "y = scaler_y.fit_transform(y).ravel()\n",
        "\n",
        "X_train, X_test, y_train, y_test = train_test_split(X, y, test_size=0.2, random_state=42)"
      ],
      "metadata": {
        "id": "E89cRq1qBCS6"
      },
      "execution_count": null,
      "outputs": []
    },
    {
      "cell_type": "markdown",
      "source": [
        "Se define la función para encontrar el número de componentes óptimo de los datos cuando tenemos una regresión lineal múltiple"
      ],
      "metadata": {
        "id": "tt2Fwe5SG5kj"
      }
    },
    {
      "cell_type": "code",
      "execution_count": null,
      "metadata": {
        "id": "cCR3QgyU-QjK"
      },
      "outputs": [],
      "source": [
        "def entrenamiento_pca(modelo, n_comp, n_sets, X, Y):\n",
        "    Errores, times = np.zeros(n_sets), np.zeros(n_sets)\n",
        "    kf = KFold(n_splits=n_sets)\n",
        "    for j, (train_idx, test_idx) in enumerate(kf.split(X)):\n",
        "        X_tr, X_te = X[train_idx], X[test_idx]\n",
        "        y_tr, y_te = Y[train_idx], Y[test_idx]\n",
        "\n",
        "        pca = PCA(n_components=n_comp)\n",
        "        start = time.time()\n",
        "        X_tr_pca = pca.fit_transform(X_tr)\n",
        "        X_te_pca = pca.transform(X_te)\n",
        "\n",
        "        modelo.fit(X_tr_pca, y_tr)\n",
        "        y_pred = modelo.predict(X_te_pca)\n",
        "        times[j] = time.time() - start\n",
        "        Errores[j] = mean_absolute_error(y_te, y_pred)\n",
        "\n",
        "    return np.mean(Errores), np.std(Errores), np.mean(times)"
      ]
    },
    {
      "cell_type": "code",
      "source": [
        "def experimentar_PCA(modelo, n_feats, X, Y):\n",
        "    resultados = []\n",
        "    for f in n_feats:\n",
        "        error, ic, t_ex = entrenamiento_pca(modelo, f, 5, X, Y)\n",
        "        resultados.append({\n",
        "            'NUM_VAR': f,\n",
        "            'T_EJECUCION': t_ex,\n",
        "            'ERROR_VALIDACION': error,\n",
        "            'STD_ERROR_VALIDACION': ic\n",
        "        })\n",
        "    return pd.DataFrame(resultados)"
      ],
      "metadata": {
        "id": "DSr9nwTTNXej"
      },
      "execution_count": null,
      "outputs": []
    },
    {
      "cell_type": "code",
      "source": [
        "# Experimento con regresión lineal\n",
        "print(\"Regresión lineal con PCA:\")\n",
        "modelo_lr = LinearRegression()\n",
        "resultados_lr = experimentar_PCA(modelo_lr, n_feats=[2,5,10,15,20], X=X_train, Y=y_train)\n",
        "print(resultados_lr)\n",
        "\n",
        "# Experimento con SVR\n",
        "print(\"\\nSVR con PCA:\")\n",
        "modelo_svr = SVR(kernel='rbf', C=0.01, gamma='scale', epsilon=0.0001, max_iter=10000)\n",
        "resultados_svr = experimentar_PCA(modelo_svr, list(range(2, 21)), X=X_train, Y=y_train)\n",
        "print(resultados_svr)\n"
      ],
      "metadata": {
        "colab": {
          "base_uri": "https://localhost:8080/"
        },
        "id": "b-UeEr73NfMp",
        "outputId": "0c5c27c0-bea1-44d0-8593-284f8a1847fc"
      },
      "execution_count": null,
      "outputs": [
        {
          "output_type": "stream",
          "name": "stdout",
          "text": [
            "Regresión lineal con PCA:\n",
            "   NUM_VAR  T_EJECUCION  ERROR_VALIDACION  STD_ERROR_VALIDACION\n",
            "0        2     0.079885          0.870019              0.016651\n",
            "1        5     0.023586          0.871865              0.015563\n",
            "2       10     0.051164          0.875042              0.014676\n",
            "3       15     0.057296          0.875208              0.014558\n",
            "4       20     0.037178          0.875325              0.013476\n",
            "\n",
            "SVR con PCA:\n",
            "    NUM_VAR  T_EJECUCION  ERROR_VALIDACION  STD_ERROR_VALIDACION\n",
            "0         2     0.307708          0.869439              0.016728\n",
            "1         3     0.268848          0.870319              0.015883\n",
            "2         4     0.303056          0.869833              0.016137\n",
            "3         5     0.277407          0.869114              0.016754\n",
            "4         6     0.307419          0.869380              0.016830\n",
            "5         7     0.211977          0.868830              0.016720\n",
            "6         8     0.179140          0.868868              0.017285\n",
            "7         9     0.178806          0.868277              0.017302\n",
            "8        10     0.183407          0.868730              0.017401\n",
            "9        11     0.186915          0.868397              0.017418\n",
            "10       12     0.184453          0.868309              0.017498\n",
            "11       13     0.188786          0.868448              0.017658\n",
            "12       14     0.195793          0.868445              0.017774\n",
            "13       15     0.207598          0.868450              0.017783\n",
            "14       16     0.335597          0.868506              0.017772\n",
            "15       17     0.281294          0.868470              0.017573\n",
            "16       18     0.179731          0.868470              0.017573\n",
            "17       19     0.187196          0.868470              0.017573\n",
            "18       20     0.182254          0.868470              0.017573\n"
          ]
        }
      ]
    },
    {
      "cell_type": "code",
      "source": [
        "# Entrenamiento final Regresión Lineal con PCA de 2 componentes\n",
        "pca_final_lr = PCA(n_components=2)\n",
        "X_train_pca_lr = pca_final_lr.fit_transform(X_train)\n",
        "X_test_pca_lr = pca_final_lr.transform(X_test)\n",
        "\n",
        "modelo_final_lr = LinearRegression()\n",
        "modelo_final_lr.fit(X_train_pca_lr, y_train)\n",
        "y_pred_lr = modelo_final_lr.predict(X_test_pca_lr)\n",
        "\n",
        "# Invertimos la transformación para comparar\n",
        "y_pred_lr_orig = scaler_y.inverse_transform(y_pred_lr.reshape(-1, 1))\n",
        "y_test_orig = scaler_y.inverse_transform(y_test.reshape(-1, 1))\n",
        "\n",
        "mae_lr = mean_absolute_error(y_test_orig, y_pred_lr_orig)\n",
        "print(f\"\\nMAE Regresión Lineal (PCA=2): {mae_lr:.4f}\")"
      ],
      "metadata": {
        "colab": {
          "base_uri": "https://localhost:8080/"
        },
        "id": "je6lP_zkNr32",
        "outputId": "953bab82-d1d7-48a4-f913-080f14208f5d"
      },
      "execution_count": null,
      "outputs": [
        {
          "output_type": "stream",
          "name": "stdout",
          "text": [
            "\n",
            "MAE Regresión Lineal (PCA=2): 22.2246\n"
          ]
        }
      ]
    },
    {
      "cell_type": "code",
      "source": [
        "# Entrenamiento final SVR con PCA de 9 componentes\n",
        "pca_final_svr = PCA(n_components=9)\n",
        "X_train_pca_svr = pca_final_svr.fit_transform(X_train)\n",
        "X_test_pca_svr = pca_final_svr.transform(X_test)\n",
        "\n",
        "modelo_final_svr = SVR(kernel='rbf', C=0.01, gamma='scale', epsilon=0.0001, max_iter=10000)\n",
        "modelo_final_svr.fit(X_train_pca_svr, y_train)\n",
        "y_pred_svr = modelo_final_svr.predict(X_test_pca_svr)\n",
        "\n",
        "y_pred_svr_orig = scaler_y.inverse_transform(y_pred_svr.reshape(-1, 1))\n",
        "mae_svr = mean_absolute_error(y_test_orig, y_pred_svr_orig)\n",
        "print(f\"MAE SVR (PCA=9): {mae_svr:.4f}\")"
      ],
      "metadata": {
        "colab": {
          "base_uri": "https://localhost:8080/"
        },
        "id": "lU8h9ewtN7Qk",
        "outputId": "fbd344bf-75c9-460d-e92f-06ba4c97c3df"
      },
      "execution_count": null,
      "outputs": [
        {
          "output_type": "stream",
          "name": "stdout",
          "text": [
            "MAE SVR (PCA=9): 22.1764\n"
          ]
        }
      ]
    }
  ]
}